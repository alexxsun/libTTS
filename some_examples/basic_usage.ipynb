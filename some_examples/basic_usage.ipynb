{
 "cells": [
  {
   "cell_type": "code",
   "execution_count": 1,
   "id": "85eb3568",
   "metadata": {},
   "outputs": [],
   "source": [
    "import os\n",
    "import libtts\n",
    "\n",
    "import numpy as np\n",
    "\n",
    "import matplotlib.pyplot as plt"
   ]
  },
  {
   "cell_type": "markdown",
   "id": "9ee1052f",
   "metadata": {},
   "source": [
    "## ground detection"
   ]
  },
  {
   "cell_type": "code",
   "execution_count": null,
   "id": "bcd31fb8",
   "metadata": {},
   "outputs": [],
   "source": [
    "# set input file\n",
    "infile = f\"tree_228.pts\""
   ]
  },
  {
   "cell_type": "code",
   "execution_count": null,
   "id": "b9ada98f",
   "metadata": {},
   "outputs": [],
   "source": [
    "# set output files\n",
    "out_gd_file = f\"tree_228_gd_xyzh.pts\"\n",
    "out_veg_file = f\"tree_228_veg_xyzh.pts\"\n",
    "out_gd_file, out_veg_file = libtts.run_ground_detection(infile = infile, out_gd_file = out_gd_file, out_veg_file = out_veg_file, \n",
    "                                                        grid_size=0.1, height_threshold = 0.5)\n"
   ]
  },
  {
   "cell_type": "code",
   "execution_count": null,
   "id": "5147b07c",
   "metadata": {},
   "outputs": [],
   "source": [
    "# plot gd points\n",
    "gd_points = np.loadtxt(out_gd_file)\n",
    "plt.figure(figsize=(7, 7))\n",
    "plt.scatter(gd_points[:, 0], gd_points[:, 1], c=gd_points[:, 3], s=1, cmap='viridis')\n",
    "plt.colorbar(label='Height (m)')\n",
    "plt.title('Ground Points')\n",
    "plt.xlabel('X (m)')\n",
    "plt.ylabel('Y (m)')\n",
    "plt.axis('equal')\n",
    "#plt.savefig('ground_points.png')\n",
    "plt.show()\n",
    "plt.close()"
   ]
  },
  {
   "cell_type": "markdown",
   "id": "3d748680",
   "metadata": {},
   "source": [
    "## tree detection and extraction"
   ]
  },
  {
   "cell_type": "code",
   "execution_count": null,
   "id": "a8ab8d54",
   "metadata": {},
   "outputs": [],
   "source": [
    "tls_veg_file = \"close_stems_3.pts\""
   ]
  },
  {
   "cell_type": "code",
   "execution_count": null,
   "id": "e676bb22",
   "metadata": {},
   "outputs": [],
   "source": [
    "tree_locfile = libtts.run_tree_detection(infile = tls_veg_file, outfile= \"tree_locations.pts\", \n",
    "                                         height_min=0.5, height_max=1.0, max_dist=1.0,\n",
    "                                         eps=0.2, min_samples=5)\n",
    "\n",
    "print(tree_locfile)"
   ]
  },
  {
   "cell_type": "code",
   "execution_count": null,
   "id": "32ba9b92",
   "metadata": {},
   "outputs": [],
   "source": [
    "# plot tree locations\n",
    "tree_locs = np.loadtxt(tree_locfile)\n",
    "plt.figure(figsize=(7, 7))\n",
    "plt.scatter(tree_locs[:, 0], tree_locs[:, 1], c=tree_locs[:, 3], s=10, label='Tree Locations')\n",
    "plt.title('Tree Locations')\n",
    "plt.xlabel('X (m)')\n",
    "plt.ylabel('Y (m)')\n",
    "plt.axis('equal')\n",
    "plt.legend()\n",
    "#plt.savefig('tree_locations.png')\n",
    "plt.show()\n",
    "plt.close()"
   ]
  },
  {
   "cell_type": "markdown",
   "id": "0e803e12",
   "metadata": {},
   "source": [
    "## tree extraction"
   ]
  },
  {
   "cell_type": "code",
   "execution_count": null,
   "id": "fffea4b4",
   "metadata": {},
   "outputs": [],
   "source": [
    "### generate alpha shape\n",
    "th_alpha_sq = 0.01\n",
    "as_file = libtts.generate_alpha_shape(tls_veg_file, th_alpha_sq)\n",
    "print(\"Alpha shape file:\", as_file)"
   ]
  },
  {
   "cell_type": "code",
   "execution_count": null,
   "id": "8e3adcad",
   "metadata": {},
   "outputs": [],
   "source": [
    "### tree segmentation\n",
    "as_file = f\"{tls_veg_file[:-4]}_a0.010.off\"\n",
    "treeloc_file = f\"{tls_veg_file[:-4]}_treeloc_xyzl.pts\"\n",
    "print(f\"{as_file=}, {treeloc_file=}\")\n",
    "\n",
    "segfile = libtts.tls_extract_single_trees(as_file, treeloc_file, th_p2trunk_distance=0.2, th_search_radius=0.25)\n",
    "\n",
    "print(segfile) "
   ]
  },
  {
   "cell_type": "code",
   "execution_count": null,
   "id": "f426e4c3",
   "metadata": {},
   "outputs": [],
   "source": [
    "### label remaining points\n",
    "tls_veg_file = \"close_stems_3.pts\"\n",
    "segfile = f\"{tls_veg_file[:-4]}_a0.010_lbl.pts\"\n",
    "\n",
    "all_pts = np.loadtxt(tls_veg_file)\n",
    "initial_labels = np.loadtxt(segfile)\n",
    "all_lbl_file = f\"{tls_veg_file[:-4]}_lbl_all.pts\"\n",
    "all_pts_lbls = libtts.label_points_region_growing(all_pts, initial_labels, search_radius=0.5, out_file=all_lbl_file)"
   ]
  },
  {
   "cell_type": "markdown",
   "id": "b93d6c5c",
   "metadata": {},
   "source": [
    "## downsampling"
   ]
  },
  {
   "cell_type": "code",
   "execution_count": null,
   "id": "dd4fc133",
   "metadata": {},
   "outputs": [],
   "source": [
    "infile = \"t109_roi.pts\"\n"
   ]
  },
  {
   "cell_type": "code",
   "execution_count": null,
   "id": "44097dda",
   "metadata": {},
   "outputs": [
    {
     "name": "stdout",
     "output_type": "stream",
     "text": [
      "vertices #:1454340\n",
      "tetra #: 8467783\n",
      "triangles #: 10918\n",
      "edges #: 1157\n",
      "Successfully wrote mesh to:\n",
      "t109_roi_a0.010.off\n",
      "Infile infos:\n",
      "path: \"/home/alex/Projects/libTTS_public/some_examples/t109_roi_a0.010.off\"\n",
      "file name: t109_roi_a0.010\n",
      "extension: .off\n",
      "\n",
      "Reading input\n",
      "Entrato\n",
      "off header: 1454340, 8479858, 0\n",
      "scalar function id: 3\n",
      "Complex Max Dim 3\n",
      "Dim ID\n",
      "1 0\n",
      "2 1\n",
      "3 2\n",
      "Complex vertices #: 1454340\n",
      " points extent: x y min: -105.204, -59.669\n",
      "Complex top simplices #: 8479858\n",
      "Reading time 51.8166 s\n",
      "Computing fields\n",
      "Simplicial complex dimension 3\n",
      "** Number of fields to create scalar function value: 1. **\n",
      "Note - file ../data/table2D.txt cannot be found\n",
      "xx: I will use embed values\n",
      "Note - file ../data/table3D.txt cannot be found\n",
      "xx: I will use embed values\n",
      "Filtration time 0.767997 s\n",
      "\n",
      "Compute Forman Gradient\n",
      "Tops computed 14.941 s\n",
      "Forman gradient computed 54.7485 s\n",
      "The Forman gradient has critical cells: \n",
      "Dim: 0  #: 2476\n",
      "Dim: 1  #: 10957\n",
      "Dim: 2  #: 6745\n",
      "\n",
      "Initialized 2476 clusters from critical minima.\n",
      "Point labeling completed in 10.6489 s.\n",
      "Generated output path:\n",
      "/home/alOversegmentation results saved to /home/alex/Projects/libTTS_public/some_examples/t109_roi_a0.010_lbl.pts\n",
      "ex/Projects/libTTS_public/some_examples/t109_roi_a0.010_lbl.pts\n",
      "Wrote labeled points in 6.13539 s.\n",
      "\n",
      "over-segmentation total time: 139.168 s\n",
      "pts #: 1454340\n",
      "labels #: 2476\n",
      "selected_pts #: 1444398\n",
      "/home/alex/Projects/libTTS_public/some_examples/t109_roi_a0.010_lbl_woody.pts\n"
     ]
    }
   ],
   "source": [
    "dsfile = libtts.run_downsampling(infile, input_data = \"pts\", th_alpha_sq=0.01, th_avg_dis=0.1)\n",
    "\n",
    "print(dsfile)"
   ]
  },
  {
   "cell_type": "code",
   "execution_count": 4,
   "id": "c5245469",
   "metadata": {},
   "outputs": [
    {
     "name": "stdout",
     "output_type": "stream",
     "text": [
      "Infile infos:\n",
      "path: \"/home/alex/Projects/libTTS_public/some_examples/t109_roi_a0.010.off\"\n",
      "file name: t109_roi_a0.010\n",
      "extension: .off\n",
      "\n",
      "Reading input\n",
      "Entrato\n",
      "Oversegmentation results saved to /home/alex/Projects/libTTS_public/some_examples/t109_roi_a0.010_lbl.pts\n",
      "off header: 1454340, 8479858, 0\n",
      "scalar function id: 3\n",
      "Complex Max Dim 3\n",
      "Dim ID\n",
      "1 0\n",
      "2 1\n",
      "3 2\n",
      "Complex vertices #: 1454340\n",
      " points extent: x y min: -105.204, -59.669\n",
      "Complex top simplices #: 8479858\n",
      "Reading time 51.3192 s\n",
      "Computing fields\n",
      "Simplicial complex dimension 3\n",
      "** Number of fields to create scalar function value: 1. **\n",
      "Note - file ../data/table2D.txt cannot be found\n",
      "xx: I will use embed values\n",
      "Note - file ../data/table3D.txt cannot be found\n",
      "xx: I will use embed values\n",
      "Filtration time 0.836628 s\n",
      "\n",
      "Compute Forman Gradient\n",
      "Tops computed 14.7961 s\n",
      "Forman gradient computed 53.1689 s\n",
      "The Forman gradient has critical cells: \n",
      "Dim: 0  #: 2476\n",
      "Dim: 1  #: 10957\n",
      "Dim: 2  #: 6745\n",
      "\n",
      "Initialized 2476 clusters from critical minima.\n",
      "Point labeling completed in 10.3657 s.\n",
      "Generated output path:\n",
      "/home/alex/Projects/libTTS_public/some_examples/t109_roi_a0.010_lbl.pts\n",
      "Wrote labeled points in 6.2529 s.\n",
      "\n",
      "over-segmentation total time: 136.858 s\n",
      "pts #: 1454340\n",
      "labels #: 2476\n",
      "selected_pts #: 1444398\n"
     ]
    }
   ],
   "source": [
    "as_file = \"t109_roi_a0.010.off\"\n",
    "dsfile = libtts.run_downsampling(as_file, input_data = \"mesh\", th_alpha_sq=0.01, th_avg_dis=0.1)\n"
   ]
  },
  {
   "cell_type": "code",
   "execution_count": 5,
   "id": "0a2de023",
   "metadata": {},
   "outputs": [
    {
     "name": "stdout",
     "output_type": "stream",
     "text": [
      "pts #: 1454340\n",
      "labels #: 2476\n",
      "selected_pts #: 1444398\n"
     ]
    }
   ],
   "source": [
    "overseg_file = \"t109_roi_a0.010_lbl.pts\"\n",
    "dsfile = libtts.run_downsampling(overseg_file, input_data = \"overseg\", th_alpha_sq=0.01, th_avg_dis=0.1)"
   ]
  },
  {
   "cell_type": "code",
   "execution_count": null,
   "id": "c84194d9",
   "metadata": {},
   "outputs": [],
   "source": []
  },
  {
   "cell_type": "markdown",
   "id": "b46f2c93",
   "metadata": {},
   "source": [
    "## aux functions"
   ]
  },
  {
   "cell_type": "code",
   "execution_count": null,
   "id": "f88f8384",
   "metadata": {},
   "outputs": [],
   "source": [
    "from plyfile import PlyData\n",
    "import numpy as np"
   ]
  },
  {
   "cell_type": "code",
   "execution_count": null,
   "id": "a9a75406",
   "metadata": {},
   "outputs": [],
   "source": [
    "def show_ply_point_summary(filepath):\n",
    "    \"\"\"\n",
    "    Reads a PLY file and prints a summary of its point data.\n",
    "\n",
    "    Args:\n",
    "        filepath (str): The path to the PLY file.\n",
    "    \"\"\"\n",
    "    try:\n",
    "        plydata = PlyData.read(filepath)\n",
    "        \n",
    "        # show element names and properties\n",
    "        print(f\"Reading PLY file: {filepath}\")\n",
    "        print(\"Elements in the PLY file:\")\n",
    "        for element in plydata.elements:\n",
    "            print(f\"  - {element.name}: {len(element.data)} points\")\n",
    "            print(f\"    Properties:\")\n",
    "            for prop in element.data.dtype.names:\n",
    "                print(f\"      - {prop}: {element.data.dtype[prop]}\")\n",
    "        print(\"\\nPoint data summary:\")\n",
    "\n",
    "        element_names = [element.name for element in plydata.elements]\n",
    "        if 'vertex' in element_names:\n",
    "            vertex_data = plydata['vertex'].data\n",
    "            print(f\"Number of points: {len(vertex_data)}\")\n",
    "\n",
    "            # # Print information about the properties (e.g., x, y, z, color)\n",
    "            # print(\"Point properties and their data types:\")\n",
    "            # for prop_name in vertex_data.dtype.names:\n",
    "            #     print(f\"  - {prop_name}: {vertex_data.dtype[prop_name]}\")\n",
    "\n",
    "            # Print min/max values for specific properties \n",
    "            # if # of pts is relatively small, otherwise it may take too long\n",
    "            if len(vertex_data) < 1000000 and \\\n",
    "               'x' in vertex_data.dtype.names and \\\n",
    "               'y' in vertex_data.dtype.names and \\\n",
    "               'z' in vertex_data.dtype.names:\n",
    "                print(\"\\nCoordinate ranges:\")\n",
    "                print(f\"  X-range: [{vertex_data['x'].min():.4f}, {vertex_data['x'].max():.4f}]\")\n",
    "                print(f\"  Y-range: [{vertex_data['y'].min():.4f}, {vertex_data['y'].max():.4f}]\")\n",
    "                print(f\"  Z-range: [{vertex_data['z'].min():.4f}, {vertex_data['z'].max():.4f}]\")\n",
    "        else:\n",
    "            print(f\"No 'vertex' element found in '{filepath}'.\")\n",
    "            print(\"Available elements:\", [el.name for el in plydata.elements])\n",
    "\n",
    "    except FileNotFoundError:\n",
    "        print(f\"Error: File not found at '{filepath}'\")\n",
    "    except Exception as e:\n",
    "        print(f\"An error occurred: {e}\")"
   ]
  },
  {
   "cell_type": "code",
   "execution_count": null,
   "id": "fe49ffcb",
   "metadata": {},
   "outputs": [],
   "source": [
    "show_ply_point_summary(\"/home/alex/Projects/libTTS_public/cpp/cmake-build-debug/close_stems_3_a0.01.ply\")"
   ]
  },
  {
   "cell_type": "code",
   "execution_count": null,
   "id": "f5c1329b",
   "metadata": {},
   "outputs": [],
   "source": [
    "show_ply_point_summary(\"/home/alex/Projects/libTTS_public/cpp/cmake-build-debug/close_stems_3_a0.01_lbl.ply\")"
   ]
  },
  {
   "cell_type": "code",
   "execution_count": null,
   "id": "213a5353",
   "metadata": {},
   "outputs": [],
   "source": [
    "show_ply_point_summary(\"/run/media/alex/HDD_Data3/GoogleDrive/ResearchDevelopment/projects/john_postdoc_2024/test_data/aoi_vg_xyzh_a0.100.ply\")"
   ]
  },
  {
   "cell_type": "code",
   "execution_count": null,
   "id": "8e9423e8",
   "metadata": {},
   "outputs": [],
   "source": []
  }
 ],
 "metadata": {
  "kernelspec": {
   "display_name": "libtts",
   "language": "python",
   "name": "python3"
  },
  "language_info": {
   "codemirror_mode": {
    "name": "ipython",
    "version": 3
   },
   "file_extension": ".py",
   "mimetype": "text/x-python",
   "name": "python",
   "nbconvert_exporter": "python",
   "pygments_lexer": "ipython3",
   "version": "3.12.6"
  }
 },
 "nbformat": 4,
 "nbformat_minor": 5
}
