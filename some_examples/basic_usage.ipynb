{
 "cells": [
  {
   "cell_type": "code",
   "execution_count": null,
   "id": "85eb3568",
   "metadata": {},
   "outputs": [],
   "source": [
    "import os\n",
    "import libtts\n",
    "\n",
    "import numpy as np"
   ]
  },
  {
   "cell_type": "markdown",
   "id": "9ee1052f",
   "metadata": {},
   "source": [
    "## ground detection"
   ]
  },
  {
   "cell_type": "code",
   "execution_count": null,
   "id": "bcd31fb8",
   "metadata": {},
   "outputs": [],
   "source": [
    "infile = f\"tree_228.pts\""
   ]
  },
  {
   "cell_type": "code",
   "execution_count": null,
   "id": "7c45cfa3",
   "metadata": {},
   "outputs": [],
   "source": [
    "inpts = np.loadtxt(infile)\n",
    "inpts.shape"
   ]
  },
  {
   "cell_type": "code",
   "execution_count": null,
   "id": "61c66208",
   "metadata": {},
   "outputs": [],
   "source": [
    "gd_width = 0.1\n",
    "outfile = infile.replace(\".pts\", \"_normalized.pts\")\n",
    "pts_xyzh = libtts.normalize_pts(inpts, gd_width, outfile, show_plot=True)"
   ]
  },
  {
   "cell_type": "code",
   "execution_count": null,
   "id": "77d28431",
   "metadata": {},
   "outputs": [],
   "source": [
    "th_veg_h = 0.5\n",
    "libtts.classify_pts(pts_xyzh, infile, th_veg_h)"
   ]
  },
  {
   "cell_type": "markdown",
   "id": "3d748680",
   "metadata": {},
   "source": [
    "## tree detection and extraction"
   ]
  },
  {
   "cell_type": "code",
   "execution_count": null,
   "id": "a8ab8d54",
   "metadata": {},
   "outputs": [],
   "source": [
    "tls_veg_file = \"close_stems_3.pts\""
   ]
  },
  {
   "cell_type": "code",
   "execution_count": null,
   "id": "6c150f3e",
   "metadata": {},
   "outputs": [],
   "source": [
    "### detect tree locations\n",
    "treeloc_file = f\"{tls_veg_file[:-4]}_treeloc.pts\"\n",
    "libtts.detect_trees(tls_veg_file, th_low_base = 0.5, th_low_length = 0.5, th_avg_knn_dist = 1.0, th_db_eps = 0.2, out_file=treeloc_file)"
   ]
  },
  {
   "cell_type": "code",
   "execution_count": null,
   "id": "fffea4b4",
   "metadata": {},
   "outputs": [],
   "source": [
    "### generate alpha shape\n",
    "th_alpha_sq = 0.01\n",
    "as_file = libtts.generate_alpha_shape(tls_veg_file, th_alpha_sq)\n",
    "# print(\"Alpha shape generation result:\", as_ret)\n",
    "print(\"Alpha shape file:\", as_file)"
   ]
  },
  {
   "cell_type": "code",
   "execution_count": null,
   "id": "1ae836f1",
   "metadata": {},
   "outputs": [],
   "source": [
    "as_file"
   ]
  },
  {
   "cell_type": "code",
   "execution_count": null,
   "id": "8e3adcad",
   "metadata": {},
   "outputs": [],
   "source": [
    "### tree segmentation\n",
    "print(f\"{as_file=}, {treeloc_file=}\")\n",
    "segfile = f\"{tls_veg_file[:-4]}_lbl.pts\"\n",
    "libtts.tls_extract_single_trees(as_file, treeloc_file, segfile)"
   ]
  },
  {
   "cell_type": "code",
   "execution_count": null,
   "id": "f426e4c3",
   "metadata": {},
   "outputs": [],
   "source": [
    "### label remaining points\n",
    "tls_veg_file = \"close_stems_3.pts\"\n",
    "segfile = f\"{tls_veg_file[:-4]}_a0.010_lbl.pts\"\n",
    "\n",
    "all_pts = np.loadtxt(tls_veg_file)\n",
    "initial_labels = np.loadtxt(segfile)\n",
    "all_lbl_file = f\"{tls_veg_file[:-4]}_lbl_all.pts\"\n",
    "#ret = libtts.label_points_layered_nn(all_pts, initial_labels, layer_height=0.5, max_search_radius=2.0, out_file=all_lbl_file)\n",
    "ret = libtts.label_points_region_growing(all_pts, initial_labels, search_radius=0.5, out_file=all_lbl_file)"
   ]
  },
  {
   "cell_type": "markdown",
   "id": "b93d6c5c",
   "metadata": {},
   "source": [
    "## downsampling"
   ]
  },
  {
   "cell_type": "code",
   "execution_count": null,
   "id": "dd4fc133",
   "metadata": {},
   "outputs": [],
   "source": [
    "infile = \"t109_roi.pts\""
   ]
  },
  {
   "cell_type": "code",
   "execution_count": null,
   "id": "a309edc4",
   "metadata": {},
   "outputs": [],
   "source": [
    "### make an alpha shape\n",
    "th_alpha_sq = 0.01\n",
    "as_ret, as_file = libtts.generate_alpha_shape(infile, th_alpha_sq)"
   ]
  },
  {
   "cell_type": "code",
   "execution_count": null,
   "id": "4f911c9d",
   "metadata": {},
   "outputs": [],
   "source": [
    "print(as_ret)\n",
    "print(as_file)"
   ]
  },
  {
   "cell_type": "code",
   "execution_count": null,
   "id": "7eae1ff9",
   "metadata": {},
   "outputs": [],
   "source": [
    "as_file = \"t109_roi_a0.010.off\""
   ]
  },
  {
   "cell_type": "code",
   "execution_count": null,
   "id": "b9de9b7f",
   "metadata": {},
   "outputs": [],
   "source": [
    "libtts.downsample_points(as_file, th_avg_dis=0.1)"
   ]
  },
  {
   "cell_type": "markdown",
   "id": "47ecd0b0",
   "metadata": {},
   "source": [
    "## TLS complete workflow"
   ]
  },
  {
   "cell_type": "markdown",
   "id": "fe78dd14",
   "metadata": {},
   "source": [
    "## ALS segmentation"
   ]
  },
  {
   "cell_type": "code",
   "execution_count": null,
   "id": "44fd7d54",
   "metadata": {},
   "outputs": [],
   "source": [
    "# ALS\n",
    "als_infile = \"\"\n",
    "libtts.als_segment(als_infile)"
   ]
  }
 ],
 "metadata": {
  "kernelspec": {
   "display_name": "libtts",
   "language": "python",
   "name": "python3"
  },
  "language_info": {
   "codemirror_mode": {
    "name": "ipython",
    "version": 3
   },
   "file_extension": ".py",
   "mimetype": "text/x-python",
   "name": "python",
   "nbconvert_exporter": "python",
   "pygments_lexer": "ipython3",
   "version": "3.12.6"
  }
 },
 "nbformat": 4,
 "nbformat_minor": 5
}
