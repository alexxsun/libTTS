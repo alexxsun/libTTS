{
 "cells": [
  {
   "cell_type": "code",
   "execution_count": null,
   "id": "85eb3568",
   "metadata": {
    "vscode": {
     "languageId": "plaintext"
    }
   },
   "outputs": [],
   "source": [
    "import os\n",
    "import libtts"
   ]
  },
  {
   "cell_type": "code",
   "execution_count": null,
   "id": "b59eb87f",
   "metadata": {
    "vscode": {
     "languageId": "plaintext"
    }
   },
   "outputs": [],
   "source": [
    "# TLS\n",
    "tls_infile = \"\"\n",
    "\n",
    "### generate alpha shape\n",
    "th_alpha_sq = 0.01\n",
    "as_ret, as_file = libtts.alpha_shape_generation(tls_infile, th_alpha_sq)\n",
    "\n",
    "### detect tree locations\n",
    "treeloc_file=f\"{tls_infile[:-4]}_locs.pts\"\n",
    "libtts.detect_trees(infile, th_low_base = 0.5, th_low_length = 0.5, th_avg_knn_dist = 0.05, \n",
    "out_file=treeloc_file)\n",
    "\n",
    "### tree segmentation\n",
    "segfile = f\"{tls_infile[:-4]}_lbl.pts\"\n",
    "extract_single_trees(as_file, treeloc_file, segfile)\n",
    "\n"
   ]
  },
  {
   "cell_type": "code",
   "execution_count": null,
   "id": "44fd7d54",
   "metadata": {
    "vscode": {
     "languageId": "plaintext"
    }
   },
   "outputs": [],
   "source": [
    "# ALS\n",
    "als_infile = \"\"\n",
    "libtts.als_segment(als_infile)"
   ]
  }
 ],
 "metadata": {
  "language_info": {
   "name": "python"
  }
 },
 "nbformat": 4,
 "nbformat_minor": 5
}
