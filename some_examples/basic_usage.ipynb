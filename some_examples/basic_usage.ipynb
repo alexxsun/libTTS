{
 "cells": [
  {
   "cell_type": "code",
   "execution_count": null,
   "id": "85eb3568",
   "metadata": {},
   "outputs": [],
   "source": [
    "import os\n",
    "import libtts\n",
    "\n",
    "import numpy as np\n",
    "\n",
    "import matplotlib.pyplot as plt"
   ]
  },
  {
   "cell_type": "markdown",
   "id": "9ee1052f",
   "metadata": {},
   "source": [
    "## ground detection"
   ]
  },
  {
   "cell_type": "code",
   "execution_count": null,
   "id": "bcd31fb8",
   "metadata": {},
   "outputs": [],
   "source": [
    "# set input file\n",
    "#infile = f\"tree_228.pts\"\n",
    "infile = f\"tree_228.las\""
   ]
  },
  {
   "cell_type": "code",
   "execution_count": null,
   "id": "b9ada98f",
   "metadata": {},
   "outputs": [],
   "source": [
    "# set output files\n",
    "# out_gd_file = f\"tree_228_gd_xyzh.pts\"\n",
    "# out_veg_file = f\"tree_228_veg_xyzh.pts\"\n",
    "out_gd_file = f\"tree_228_gd_xyzh.las\"\n",
    "out_veg_file = f\"tree_228_veg_xyzh.las\"\n",
    "out_gd_file, out_veg_file = libtts.run_ground_detection(infile = infile, out_gd_file = out_gd_file, out_veg_file = out_veg_file, \n",
    "                                                        grid_size=0.1, height_threshold = 0.5)\n"
   ]
  },
  {
   "cell_type": "code",
   "execution_count": null,
   "id": "5147b07c",
   "metadata": {},
   "outputs": [],
   "source": [
    "# plot gd points\n",
    "gd_points = np.loadtxt(out_gd_file)\n",
    "plt.figure(figsize=(7, 7))\n",
    "plt.scatter(gd_points[:, 0], gd_points[:, 1], c=gd_points[:, 3], s=1, cmap='viridis')\n",
    "plt.colorbar(label='Height (m)')\n",
    "plt.title('Ground Points')\n",
    "plt.xlabel('X (m)')\n",
    "plt.ylabel('Y (m)')\n",
    "plt.axis('equal')\n",
    "#plt.savefig('ground_points.png')\n",
    "plt.show()\n",
    "plt.close()"
   ]
  },
  {
   "cell_type": "markdown",
   "id": "3d748680",
   "metadata": {},
   "source": [
    "## tree detection"
   ]
  },
  {
   "cell_type": "code",
   "execution_count": null,
   "id": "a8ab8d54",
   "metadata": {},
   "outputs": [],
   "source": [
    "tls_veg_file = \"close_stems_3.pts\""
   ]
  },
  {
   "cell_type": "code",
   "execution_count": null,
   "id": "e676bb22",
   "metadata": {},
   "outputs": [],
   "source": [
    "tree_locfile = libtts.run_tree_detection(infile = tls_veg_file, outfile= \"tree_locations.pts\", \n",
    "                                         method='base',\n",
    "                                         height_min=0.5, height_max=1.0, max_avg_dist=1.0,\n",
    "                                         eps=0.2, min_samples=5)\n",
    "\n",
    "print(tree_locfile)"
   ]
  },
  {
   "cell_type": "code",
   "execution_count": null,
   "id": "32ba9b92",
   "metadata": {},
   "outputs": [],
   "source": [
    "# plot tree locations\n",
    "tree_locs = np.loadtxt(tree_locfile)\n",
    "plt.figure(figsize=(7, 7))\n",
    "plt.scatter(tree_locs[:, 0], tree_locs[:, 1], c=tree_locs[:, 3], s=10, label='Tree Locations')\n",
    "plt.title('Tree Locations')\n",
    "plt.xlabel('X (m)')\n",
    "plt.ylabel('Y (m)')\n",
    "plt.axis('equal')\n",
    "plt.legend()\n",
    "#plt.savefig('tree_locations.png')\n",
    "plt.show()\n",
    "plt.close()"
   ]
  },
  {
   "cell_type": "code",
   "execution_count": null,
   "id": "5d421740",
   "metadata": {},
   "outputs": [],
   "source": [
    "tls_veg_file = \"aoi_xyz_vg_xyzh.ply\"\n",
    "#show_ply_point_summary(tls_veg_file)\n"
   ]
  },
  {
   "cell_type": "code",
   "execution_count": null,
   "id": "452c05a1",
   "metadata": {},
   "outputs": [],
   "source": [
    "from plyfile import PlyData, PlyElement\n",
    "\n",
    "tls_veg_file = \"aoi_xyz_vg_xyzh.ply\"\n",
    "ply_data = PlyData.read(tls_veg_file)\n",
    "vertices = ply_data['vertex']\n",
    "data = [vertices['x'], vertices['y'], vertices['z'], vertices['h']]\n",
    "\n",
    "# select points with 0.5 < h < 1.0\n",
    "data = np.array(data).T\n",
    "th_low = 0.5# 1.25#1.5 # 0.5\n",
    "th_high = 1.0 # 1.75#2.0 # 1.0\n",
    "mask = (data[:, 3] > th_low) & (data[:, 3] < th_high)\n",
    "data = data[mask]\n",
    "print(f\"Filtered points: {len(data)} within height range ({th_low}, {th_high})\")\n",
    "\n",
    "\n",
    "# save to new PLY file\n",
    "out_ply_file = f\"filtered_tree_points_{th_low:.2f}.ply\"\n",
    "out_vertices = np.array([(x, y, z, h) for x, y, z, h in data], \n",
    "                         dtype=[('x', 'f4'), ('y', 'f4'), ('z', 'f4'), ('h', 'f4')])\n",
    "out_ply_data = PlyData([PlyElement.describe(out_vertices, 'vertex')])\n",
    "out_ply_data.write(out_ply_file)\n",
    "print(f\"Filtered tree points saved to {out_ply_file}\")\n",
    "\n",
    "# save to xyz pts file\n",
    "out_pts_file = f\"filtered_tree_points_{th_low:.2f}.pts\"\n",
    "np.savetxt(out_pts_file, data[:, :3], fmt='%.3f')"
   ]
  },
  {
   "cell_type": "code",
   "execution_count": null,
   "id": "e759858d",
   "metadata": {},
   "outputs": [],
   "source": [
    "out_ply_file = \"filtered_tree_points.ply\""
   ]
  },
  {
   "cell_type": "code",
   "execution_count": null,
   "id": "bb11ed09",
   "metadata": {},
   "outputs": [],
   "source": [
    "\n",
    "# geometry-based tree detection\n",
    "tree_locfile = libtts.run_tree_detection(infile = out_ply_file, outfile= \"tree_locations.pts\", \n",
    "                                         method='geometry',\n",
    "                                         height_min=0.5, height_max=1.0, \n",
    "                                         n_neighbors_pca = 20,\n",
    "                                         min_linearity = 0.2, max_linearity=1.0, max_knn_dist = 0.02,\n",
    "                                         eps=0.1, min_samples=20)\n",
    "\n",
    "print(tree_locfile)"
   ]
  },
  {
   "cell_type": "code",
   "execution_count": null,
   "id": "97819dee",
   "metadata": {},
   "outputs": [],
   "source": [
    "# gridding-based tree detection\n",
    "\n",
    "ptsfile = \"filtered_tree_points_0.50.ply\"\n",
    "tree_locfile = libtts.run_tree_detection(infile = ptsfile, outfile= \"tree_locations_gridding.pts\", \n",
    "                                         method='grid',\n",
    "                                         height_min=0.5, height_max=1.0, \n",
    "                                         grid_size = 0.05,\n",
    "                                         eps=0.1, min_samples=2,\n",
    "                                         does_plot=True)\n",
    "\n",
    "print(tree_locfile)"
   ]
  },
  {
   "cell_type": "code",
   "execution_count": null,
   "id": "705b925c",
   "metadata": {},
   "outputs": [],
   "source": [
    "# plot tree locations\n",
    "tree_locs = np.loadtxt(tree_locfile)\n",
    "plt.figure(figsize=(7, 7))\n",
    "# use colormap: flag based on tree_locs[:, 3] (label)\n",
    "plt.scatter(tree_locs[:, 0], tree_locs[:, 1], c=tree_locs[:, 3], s=10, cmap='flag', label='Tree Locations')\n",
    "plt.title('Tree Locations')\n",
    "plt.xlabel('X (m)')\n",
    "plt.ylabel('Y (m)')\n",
    "plt.axis('equal')\n",
    "plt.legend()\n",
    "#plt.savefig('tree_locations.png')\n",
    "plt.show()\n",
    "plt.close()"
   ]
  },
  {
   "cell_type": "code",
   "execution_count": null,
   "id": "0ad128bb",
   "metadata": {},
   "outputs": [],
   "source": []
  },
  {
   "cell_type": "markdown",
   "id": "0e803e12",
   "metadata": {},
   "source": [
    "## tree extraction"
   ]
  },
  {
   "cell_type": "code",
   "execution_count": null,
   "id": "fffea4b4",
   "metadata": {},
   "outputs": [],
   "source": [
    "### generate alpha shape\n",
    "th_alpha_sq = 0.01\n",
    "as_file = libtts.generate_alpha_shape(tls_veg_file, th_alpha_sq)\n",
    "print(\"Alpha shape file:\", as_file)"
   ]
  },
  {
   "cell_type": "code",
   "execution_count": null,
   "id": "8e3adcad",
   "metadata": {},
   "outputs": [],
   "source": [
    "### tree segmentation\n",
    "as_file = f\"{tls_veg_file[:-4]}_a0.010.off\"\n",
    "treeloc_file = f\"{tls_veg_file[:-4]}_treeloc_xyzl.pts\"\n",
    "print(f\"{as_file=}, {treeloc_file=}\")\n",
    "\n",
    "segfile = libtts.tls_extract_single_trees(as_file, treeloc_file, th_p2trunk_distance=0.2, th_search_radius=0.25)\n",
    "\n",
    "print(segfile) "
   ]
  },
  {
   "cell_type": "code",
   "execution_count": null,
   "id": "f426e4c3",
   "metadata": {},
   "outputs": [],
   "source": [
    "### label remaining points\n",
    "tls_veg_file = \"close_stems_3.pts\"\n",
    "segfile = f\"{tls_veg_file[:-4]}_a0.010_lbl.pts\"\n",
    "\n",
    "all_pts = np.loadtxt(tls_veg_file)\n",
    "initial_labels = np.loadtxt(segfile)\n",
    "all_lbl_file = f\"{tls_veg_file[:-4]}_lbl_all.pts\"\n",
    "all_pts_lbls = libtts.label_points_region_growing(all_pts, initial_labels, search_radius=0.5, out_file=all_lbl_file)"
   ]
  },
  {
   "cell_type": "markdown",
   "id": "b93d6c5c",
   "metadata": {},
   "source": [
    "## downsampling"
   ]
  },
  {
   "cell_type": "code",
   "execution_count": null,
   "id": "dd4fc133",
   "metadata": {},
   "outputs": [],
   "source": [
    "infile = \"t109_roi.pts\"\n"
   ]
  },
  {
   "cell_type": "code",
   "execution_count": null,
   "id": "c84194d9",
   "metadata": {},
   "outputs": [],
   "source": [
    "dsfile = libtts.run_downsampling(infile = infile, method = \"lastools\", \n",
    "                                 lastools_bin = \"/home/alex/Tools/xxbin/\", fraction = 0.5,\n",
    "                                 )\n",
    "\n",
    "print(dsfile)"
   ]
  },
  {
   "cell_type": "markdown",
   "id": "b46f2c93",
   "metadata": {},
   "source": [
    "## aux functions"
   ]
  },
  {
   "cell_type": "code",
   "execution_count": null,
   "id": "f88f8384",
   "metadata": {},
   "outputs": [],
   "source": [
    "from plyfile import PlyData\n",
    "import numpy as np"
   ]
  },
  {
   "cell_type": "code",
   "execution_count": null,
   "id": "a9a75406",
   "metadata": {},
   "outputs": [],
   "source": [
    "def show_ply_point_summary(filepath):\n",
    "    \"\"\"\n",
    "    Reads a PLY file and prints a summary of its point data.\n",
    "\n",
    "    Args:\n",
    "        filepath (str): The path to the PLY file.\n",
    "    \"\"\"\n",
    "    try:\n",
    "        plydata = PlyData.read(filepath)\n",
    "        \n",
    "        # show element names and properties\n",
    "        print(f\"Reading PLY file: {filepath}\")\n",
    "        print(\"Elements in the PLY file:\")\n",
    "        for element in plydata.elements:\n",
    "            print(f\"  - {element.name}: {len(element.data)} points\")\n",
    "            print(f\"    Properties:\")\n",
    "            for prop in element.data.dtype.names:\n",
    "                print(f\"      - {prop}: {element.data.dtype[prop]}\")\n",
    "        print(\"\\nPoint data summary:\")\n",
    "\n",
    "        element_names = [element.name for element in plydata.elements]\n",
    "        if 'vertex' in element_names:\n",
    "            vertex_data = plydata['vertex'].data\n",
    "            print(f\"Number of points: {len(vertex_data)}\")\n",
    "\n",
    "            # # Print information about the properties (e.g., x, y, z, color)\n",
    "            # print(\"Point properties and their data types:\")\n",
    "            # for prop_name in vertex_data.dtype.names:\n",
    "            #     print(f\"  - {prop_name}: {vertex_data.dtype[prop_name]}\")\n",
    "\n",
    "            # Print min/max values for specific properties \n",
    "            # if # of pts is relatively small, otherwise it may take too long\n",
    "            if len(vertex_data) < 1000000 and \\\n",
    "               'x' in vertex_data.dtype.names and \\\n",
    "               'y' in vertex_data.dtype.names and \\\n",
    "               'z' in vertex_data.dtype.names:\n",
    "                print(\"\\nCoordinate ranges:\")\n",
    "                print(f\"  X-range: [{vertex_data['x'].min():.4f}, {vertex_data['x'].max():.4f}]\")\n",
    "                print(f\"  Y-range: [{vertex_data['y'].min():.4f}, {vertex_data['y'].max():.4f}]\")\n",
    "                print(f\"  Z-range: [{vertex_data['z'].min():.4f}, {vertex_data['z'].max():.4f}]\")\n",
    "        else:\n",
    "            print(f\"No 'vertex' element found in '{filepath}'.\")\n",
    "            print(\"Available elements:\", [el.name for el in plydata.elements])\n",
    "\n",
    "    except FileNotFoundError:\n",
    "        print(f\"Error: File not found at '{filepath}'\")\n",
    "    except Exception as e:\n",
    "        print(f\"An error occurred: {e}\")"
   ]
  },
  {
   "cell_type": "code",
   "execution_count": null,
   "id": "fe49ffcb",
   "metadata": {},
   "outputs": [],
   "source": [
    "show_ply_point_summary(\"/home/alex/Projects/libTTS_public/cpp/cmake-build-debug/close_stems_3_a0.01.ply\")"
   ]
  },
  {
   "cell_type": "code",
   "execution_count": null,
   "id": "f5c1329b",
   "metadata": {},
   "outputs": [],
   "source": [
    "show_ply_point_summary(\"/home/alex/Projects/libTTS_public/cpp/cmake-build-debug/close_stems_3_a0.01_lbl.ply\")"
   ]
  },
  {
   "cell_type": "code",
   "execution_count": null,
   "id": "213a5353",
   "metadata": {},
   "outputs": [],
   "source": [
    "show_ply_point_summary(\"/run/media/alex/HDD_Data3/GoogleDrive/ResearchDevelopment/projects/john_postdoc_2024/test_data/aoi_vg_xyzh_a0.100.ply\")"
   ]
  },
  {
   "cell_type": "code",
   "execution_count": null,
   "id": "8e9423e8",
   "metadata": {},
   "outputs": [],
   "source": []
  }
 ],
 "metadata": {
  "kernelspec": {
   "display_name": "libtts",
   "language": "python",
   "name": "python3"
  },
  "language_info": {
   "codemirror_mode": {
    "name": "ipython",
    "version": 3
   },
   "file_extension": ".py",
   "mimetype": "text/x-python",
   "name": "python",
   "nbconvert_exporter": "python",
   "pygments_lexer": "ipython3",
   "version": "3.12.6"
  }
 },
 "nbformat": 4,
 "nbformat_minor": 5
}
