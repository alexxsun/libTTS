{
 "cells": [
  {
   "cell_type": "code",
   "execution_count": 1,
   "id": "85eb3568",
   "metadata": {},
   "outputs": [
    {
     "name": "stdout",
     "output_type": "stream",
     "text": [
      "Error @ Downsampling. C++ module 'libtts' not found. Using Python-only implementation.\n"
     ]
    }
   ],
   "source": [
    "import os\n",
    "import libtts\n",
    "\n",
    "import numpy as np"
   ]
  },
  {
   "cell_type": "code",
   "execution_count": null,
   "id": "a8ab8d54",
   "metadata": {},
   "outputs": [],
   "source": [
    "tls_veg_file = \"close_stems_3.pts\""
   ]
  },
  {
   "cell_type": "code",
   "execution_count": null,
   "id": "fffea4b4",
   "metadata": {},
   "outputs": [],
   "source": [
    "### generate alpha shape\n",
    "th_alpha_sq = 0.01\n",
    "as_ret, as_file = libtts.alpha_shape_generation(tls_veg_file, th_alpha_sq)\n",
    "print(\"Alpha shape generation result:\", as_ret)\n",
    "print(\"Alpha shape file:\", as_file)"
   ]
  },
  {
   "cell_type": "code",
   "execution_count": null,
   "id": "6c150f3e",
   "metadata": {},
   "outputs": [],
   "source": [
    "### detect tree locations\n",
    "treeloc_file = f\"{tls_veg_file[:-4]}_treeloc.pts\"\n",
    "libtts.detect_trees(tls_veg_file, th_low_base = 0.5, th_low_length = 0.5, th_avg_knn_dist = 1.0, th_db_eps = 0.2, out_file=treeloc_file)"
   ]
  },
  {
   "cell_type": "code",
   "execution_count": null,
   "id": "8e3adcad",
   "metadata": {},
   "outputs": [],
   "source": [
    "### tree segmentation\n",
    "print(f\"{as_file=}, {treeloc_file=}\")\n",
    "segfile = f\"{tls_veg_file[:-4]}_lbl.pts\"\n",
    "libtts.extract_single_trees(as_file, treeloc_file, segfile)"
   ]
  },
  {
   "cell_type": "code",
   "execution_count": null,
   "id": "f426e4c3",
   "metadata": {},
   "outputs": [
    {
     "name": "stdout",
     "output_type": "stream",
     "text": [
      "Starting Z-Ordered Region Growing with radius: 0.5\n",
      "Found 3 unique labels to grow from.\n",
      "Z-Ordered Region Growing complete.\n",
      "Labels saved to close_stems_3_lbl_all.pts\n"
     ]
    }
   ],
   "source": [
    "### label remaining points\n",
    "tls_veg_file = \"close_stems_3.pts\"\n",
    "segfile = f\"{tls_veg_file[:-4]}_a0.010_lbl.pts\"\n",
    "\n",
    "all_pts = np.loadtxt(tls_veg_file)\n",
    "initial_labels = np.loadtxt(segfile)\n",
    "all_lbl_file = f\"{tls_veg_file[:-4]}_lbl_all.pts\"\n",
    "#ret = libtts.label_points_layered_nn(all_pts, initial_labels, layer_height=0.5, max_search_radius=2.0, out_file=all_lbl_file)\n",
    "ret = libtts.label_points_region_growing(all_pts, initial_labels, search_radius=0.5, out_file=all_lbl_file)"
   ]
  },
  {
   "cell_type": "code",
   "execution_count": null,
   "id": "bcd31fb8",
   "metadata": {},
   "outputs": [],
   "source": [
    "# add function: label remaining points"
   ]
  },
  {
   "cell_type": "code",
   "execution_count": null,
   "id": "44fd7d54",
   "metadata": {},
   "outputs": [],
   "source": [
    "# ALS\n",
    "als_infile = \"\"\n",
    "libtts.als_segment(als_infile)"
   ]
  }
 ],
 "metadata": {
  "kernelspec": {
   "display_name": "libtts",
   "language": "python",
   "name": "python3"
  },
  "language_info": {
   "codemirror_mode": {
    "name": "ipython",
    "version": 3
   },
   "file_extension": ".py",
   "mimetype": "text/x-python",
   "name": "python",
   "nbconvert_exporter": "python",
   "pygments_lexer": "ipython3",
   "version": "3.12.6"
  }
 },
 "nbformat": 4,
 "nbformat_minor": 5
}
