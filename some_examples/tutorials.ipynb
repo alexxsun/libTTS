{
 "cells": [
  {
   "cell_type": "code",
   "execution_count": null,
   "metadata": {},
   "outputs": [],
   "source": [
    "import os\n",
    "import libtts\n",
    "\n",
    "import numpy as np\n",
    "\n",
    "import matplotlib.pyplot as plt"
   ]
  },
  {
   "cell_type": "markdown",
   "metadata": {},
   "source": [
    "## aux functions"
   ]
  },
  {
   "cell_type": "code",
   "execution_count": null,
   "metadata": {},
   "outputs": [],
   "source": [
    "from plyfile import PlyData\n",
    "import numpy as np"
   ]
  },
  {
   "cell_type": "code",
   "execution_count": null,
   "metadata": {},
   "outputs": [],
   "source": [
    "def show_ply_point_summary(filepath):\n",
    "    \"\"\"\n",
    "    Reads a PLY file and prints a summary of its point data.\n",
    "\n",
    "    Args:\n",
    "        filepath (str): The path to the PLY file.\n",
    "    \"\"\"\n",
    "    try:\n",
    "        plydata = PlyData.read(filepath)\n",
    "        \n",
    "        # show element names and properties\n",
    "        print(f\"Reading PLY file: {filepath}\")\n",
    "        print(\"Elements in the PLY file:\")\n",
    "        for element in plydata.elements:\n",
    "            print(f\"  - {element.name}: {len(element.data)} points\")\n",
    "            print(f\"    Properties:\")\n",
    "            for prop in element.data.dtype.names:\n",
    "                print(f\"      - {prop}: {element.data.dtype[prop]}\")\n",
    "        print(\"\\nPoint data summary:\")\n",
    "\n",
    "        element_names = [element.name for element in plydata.elements]\n",
    "        if 'vertex' in element_names:\n",
    "            vertex_data = plydata['vertex'].data\n",
    "            print(f\"Number of points: {len(vertex_data)}\")\n",
    "\n",
    "            # # Print information about the properties (e.g., x, y, z, color)\n",
    "            # print(\"Point properties and their data types:\")\n",
    "            # for prop_name in vertex_data.dtype.names:\n",
    "            #     print(f\"  - {prop_name}: {vertex_data.dtype[prop_name]}\")\n",
    "\n",
    "            # Print min/max values for specific properties \n",
    "            # if # of pts is relatively small, otherwise it may take too long\n",
    "            if len(vertex_data) < 1000000 and \\\n",
    "               'x' in vertex_data.dtype.names and \\\n",
    "               'y' in vertex_data.dtype.names and \\\n",
    "               'z' in vertex_data.dtype.names:\n",
    "                print(\"\\nCoordinate ranges:\")\n",
    "                print(f\"  X-range: [{vertex_data['x'].min():.4f}, {vertex_data['x'].max():.4f}]\")\n",
    "                print(f\"  Y-range: [{vertex_data['y'].min():.4f}, {vertex_data['y'].max():.4f}]\")\n",
    "                print(f\"  Z-range: [{vertex_data['z'].min():.4f}, {vertex_data['z'].max():.4f}]\")\n",
    "        else:\n",
    "            print(f\"No 'vertex' element found in '{filepath}'.\")\n",
    "            print(\"Available elements:\", [el.name for el in plydata.elements])\n",
    "\n",
    "    except FileNotFoundError:\n",
    "        print(f\"Error: File not found at '{filepath}'\")\n",
    "    except Exception as e:\n",
    "        print(f\"An error occurred: {e}\")"
   ]
  },
  {
   "cell_type": "markdown",
   "metadata": {},
   "source": [
    "## ground detection"
   ]
  },
  {
   "cell_type": "code",
   "execution_count": null,
   "metadata": {},
   "outputs": [],
   "source": [
    "# set input file\n",
    "infile = f\"tree_228.pts\""
   ]
  },
  {
   "cell_type": "code",
   "execution_count": null,
   "metadata": {},
   "outputs": [],
   "source": [
    "# set output files\n",
    "out_gd_file = f\"tree_228_gd_xyzh.pts\"\n",
    "out_veg_file = f\"tree_228_veg_xyzh.pts\"\n",
    "out_gd_file, out_veg_file = libtts.run_ground_detection(infile = infile, out_gd_file = out_gd_file, out_veg_file = out_veg_file, \n",
    "                                                        grid_size=0.1, height_threshold = 0.5)\n"
   ]
  },
  {
   "cell_type": "code",
   "execution_count": null,
   "metadata": {},
   "outputs": [],
   "source": [
    "inpts = np.loadtxt(infile)\n",
    "inpts.shape"
   ]
  },
  {
   "cell_type": "code",
   "execution_count": null,
   "metadata": {},
   "outputs": [],
   "source": [
    "# detect ground points\n",
    "ground_grid_pts, grid_x, grid_y, grid_z = libtts.detect_ground(inpts, grid_size=0.1, outlier_std_dev=1.0, gaussian_kernel_size=5)\n",
    "libtts.plot_ground_model(grid_x, grid_y, grid_z)"
   ]
  },
  {
   "cell_type": "code",
   "execution_count": null,
   "metadata": {},
   "outputs": [],
   "source": [
    "# calculate height above ground\n",
    "# and separate vegetation points from ground points\n",
    "pts_xyzh = libtts.calculate_height_above_ground(inpts, grid_x, grid_y, grid_z)\n",
    "heights = pts_xyzh[:, 3]\n",
    "height_threshold = 0.5\n",
    "veg_mask = heights > height_threshold\n",
    "\n",
    "ground_points = inpts[~veg_mask]\n",
    "veg_points = inpts[veg_mask]\n",
    "\n",
    "print(f\"Ground points: {ground_points.shape[0]}, Vegetation points: {veg_points.shape[0]}\")\n",
    "# save\n",
    "gd_file =  infile.replace(\".pts\", \"_gd_xyzh.pts\")\n",
    "vg_file =  infile.replace(\".pts\", \"_vg_xyzh.pts\")\n",
    "\n",
    "np.savetxt(gd_file, ground_points, fmt=\"%.3f\")\n",
    "np.savetxt(vg_file, veg_points, fmt=\"%.3f\")"
   ]
  },
  {
   "cell_type": "code",
   "execution_count": null,
   "metadata": {},
   "outputs": [],
   "source": [
    "# or, we can use the classify_ground_and_vegetation function\n",
    "# which does the same thing in one step\n",
    "gd_file =  infile.replace(\".pts\", \"_gd_xyzh.pts\")\n",
    "vg_file =  infile.replace(\".pts\", \"_vg_xyzh.pts\")\n",
    "gd_pts, vg_pts = libtts.classify_ground_and_vegetation(inpts, height_threshold=0.5, out_gd_file=gd_file, out_veg_file=vg_file,\n",
    "                                                       grid_size=0.1, outlier_std_dev=1.0, gaussian_kernel_size=5)"
   ]
  },
  {
   "cell_type": "markdown",
   "metadata": {},
   "source": [
    "## tree detection and extraction"
   ]
  },
  {
   "cell_type": "code",
   "execution_count": null,
   "metadata": {},
   "outputs": [],
   "source": [
    "tls_veg_file = \"close_stems_3.pts\""
   ]
  },
  {
   "cell_type": "code",
   "execution_count": null,
   "metadata": {},
   "outputs": [],
   "source": [
    "pts = np.loadtxt(tls_veg_file)\n",
    "pts.shape"
   ]
  },
  {
   "cell_type": "code",
   "execution_count": null,
   "metadata": {},
   "outputs": [],
   "source": [
    "# should be xyzh, if h is not present, it will be added as z\n",
    "if pts.shape[1] == 3:\n",
    "    pts = np.column_stack((pts, pts[:, 2]))\n",
    "pts.shape"
   ]
  },
  {
   "cell_type": "code",
   "execution_count": null,
   "metadata": {},
   "outputs": [],
   "source": [
    "tree_bases = libtts.filter_tree_bases(pts, height_min=0.5, height_max=1.0, knn=4, max_avg_dist=1.0)\n",
    "tree_bases.shape"
   ]
  },
  {
   "cell_type": "code",
   "execution_count": null,
   "metadata": {},
   "outputs": [],
   "source": [
    "# plot tree bases points\n",
    "plt.figure(figsize=(5, 5))\n",
    "plt.scatter(tree_bases[:, 0], tree_bases[:, 1], c=tree_bases[:, 2], s=2, cmap='viridis')\n",
    "plt.colorbar(label='ID')\n",
    "plt.title('Tree Bases Points')\n",
    "plt.xlabel('X (m)')\n",
    "plt.ylabel('Y (m)')\n",
    "plt.axis('equal')\n",
    "plt.grid()\n",
    "plt.show()\n",
    "plt.close()"
   ]
  },
  {
   "cell_type": "code",
   "execution_count": null,
   "metadata": {},
   "outputs": [],
   "source": [
    "labeled_trees = libtts.cluster_points_dbscan(tree_bases, eps=0.2, min_samples=5, use_2d=True)\n",
    "labeled_trees.shape # x y z knn-distance label"
   ]
  },
  {
   "cell_type": "code",
   "execution_count": null,
   "metadata": {},
   "outputs": [],
   "source": [
    "# plot labeled trees\n",
    "plt.figure(figsize=(5, 5))\n",
    "plt.scatter(labeled_trees[:, 0], labeled_trees[:, 1], c=labeled_trees[:, -1], s=2, cmap='Set1')\n",
    "plt.colorbar(label='Cluster ID')\n",
    "plt.title('Labeled Trees')\n",
    "plt.xlabel('X (m)')\n",
    "plt.ylabel('Y (m)')\n",
    "plt.axis('equal')\n",
    "plt.grid()\n",
    "plt.show()\n",
    "plt.close()"
   ]
  },
  {
   "cell_type": "code",
   "execution_count": null,
   "metadata": {},
   "outputs": [],
   "source": [
    "# or, we can use the detect_trees function\n",
    "# which does the same thing in one step\n",
    "if pts.shape[1] == 3:\n",
    "    pts = np.column_stack((pts, pts[:, 2]))\n",
    "tree_locs = libtts.detect_trees(pts, height_min=0.5, height_max=1.0, knn=4, max_avg_dist=1.0, eps=0.2, min_samples=5, use_2d=True)\n",
    "tree_locs.shape"
   ]
  },
  {
   "cell_type": "code",
   "execution_count": null,
   "metadata": {},
   "outputs": [],
   "source": [
    "# plot labeled trees\n",
    "plt.figure(figsize=(5, 5))\n",
    "plt.scatter(tree_locs[:, 0], tree_locs[:, 1], c=tree_locs[:, -1], s=2, cmap='Set1') # \n",
    "plt.colorbar(label='Cluster ID')\n",
    "plt.title('Labeled Trees')\n",
    "plt.xlabel('X (m)')\n",
    "plt.ylabel('Y (m)')\n",
    "plt.axis('equal')\n",
    "plt.grid()\n",
    "plt.show()\n",
    "plt.close()"
   ]
  },
  {
   "cell_type": "code",
   "execution_count": null,
   "metadata": {},
   "outputs": [],
   "source": [
    "tree_locfile = libtts.run_tree_detection(infile = tls_veg_file, outfile= \"tree_locations.pts\", \n",
    "                                         height_min=0.5, height_max=1.0, max_dist=1.0,\n",
    "                                         eps=0.2, min_samples=5)"
   ]
  },
  {
   "cell_type": "markdown",
   "metadata": {},
   "source": [
    "## tree extraction"
   ]
  },
  {
   "cell_type": "code",
   "execution_count": null,
   "metadata": {},
   "outputs": [],
   "source": [
    "### generate alpha shape\n",
    "th_alpha_sq = 0.01\n",
    "as_file = libtts.generate_alpha_shape(tls_veg_file, th_alpha_sq)\n",
    "print(\"Alpha shape file:\", as_file)"
   ]
  },
  {
   "cell_type": "code",
   "execution_count": null,
   "metadata": {},
   "outputs": [],
   "source": [
    "### tree segmentation\n",
    "as_file = f\"{tls_veg_file[:-4]}_a0.010.off\"\n",
    "treeloc_file = f\"{tls_veg_file[:-4]}_treeloc_xyzl.pts\"\n",
    "print(f\"{as_file=}, {treeloc_file=}\")\n",
    "\n",
    "segfile = libtts.tls_extract_single_trees(as_file, treeloc_file, th_p2trunk_distance=0.2, th_search_radius=0.25)\n",
    "\n",
    "print(segfile) "
   ]
  },
  {
   "cell_type": "code",
   "execution_count": null,
   "metadata": {},
   "outputs": [],
   "source": [
    "### label remaining points\n",
    "tls_veg_file = \"close_stems_3.pts\"\n",
    "segfile = f\"{tls_veg_file[:-4]}_a0.010_lbl.pts\"\n",
    "\n",
    "all_pts = np.loadtxt(tls_veg_file)\n",
    "initial_labels = np.loadtxt(segfile)\n",
    "all_lbl_file = f\"{tls_veg_file[:-4]}_lbl_all.pts\"\n",
    "all_pts_lbls = libtts.label_points_region_growing(all_pts, initial_labels, search_radius=0.5, out_file=all_lbl_file)"
   ]
  },
  {
   "cell_type": "markdown",
   "metadata": {},
   "source": [
    "## downsampling"
   ]
  },
  {
   "cell_type": "code",
   "execution_count": null,
   "metadata": {},
   "outputs": [],
   "source": [
    "infile = \"t109_roi.pts\""
   ]
  },
  {
   "cell_type": "code",
   "execution_count": null,
   "metadata": {},
   "outputs": [],
   "source": [
    "### make an alpha shape\n",
    "th_alpha_sq = 0.01\n",
    "as_file = libtts.generate_alpha_shape(infile, th_alpha_sq)"
   ]
  },
  {
   "cell_type": "code",
   "execution_count": null,
   "metadata": {},
   "outputs": [],
   "source": [
    "as_file = \"t109_roi_a0.010.off\""
   ]
  },
  {
   "cell_type": "code",
   "execution_count": null,
   "metadata": {},
   "outputs": [],
   "source": [
    "libtts.downsample_points_from_mesh(as_file, th_avg_dis=0.1)"
   ]
  },
  {
   "cell_type": "code",
   "execution_count": null,
   "metadata": {},
   "outputs": [],
   "source": [
    "infile = \"t109_roi.pts\"\n",
    "dsfile = libtts.run_downsampling(infile, input_data = \"pts\", th_alpha_sq=0.01, th_avg_dis=0.1)\n"
   ]
  },
  {
   "cell_type": "code",
   "execution_count": null,
   "metadata": {},
   "outputs": [],
   "source": [
    "as_file = \"t109_roi_a0.010.off\"\n",
    "dsfile = libtts.run_downsampling(as_file, input_data = \"mesh\", th_alpha_sq=0.01, th_avg_dis=0.1)"
   ]
  },
  {
   "cell_type": "code",
   "execution_count": null,
   "metadata": {},
   "outputs": [],
   "source": [
    "overseg_file = \"t109_roi_a0.010_lbl.pts\"\n",
    "dsfile = libtts.run_downsampling(overseg_file, input_data = \"overseg\", th_alpha_sq=0.01, th_avg_dis=0.1)"
   ]
  }
 ],
 "metadata": {
  "kernelspec": {
   "display_name": "libtts",
   "language": "python",
   "name": "python3"
  },
  "language_info": {
   "name": "python",
   "version": "3.12.6"
  }
 },
 "nbformat": 4,
 "nbformat_minor": 2
}
